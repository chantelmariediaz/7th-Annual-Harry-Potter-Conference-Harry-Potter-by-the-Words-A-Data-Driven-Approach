{
 "cells": [
  {
   "cell_type": "code",
   "execution_count": 1,
   "metadata": {
    "collapsed": true
   },
   "outputs": [],
   "source": [
    "from nltk.classify import NaiveBayesClassifier\n",
    "from nltk.corpus import subjectivity\n",
    "from nltk.sentiment import SentimentAnalyzer\n",
    "from nltk.sentiment.util import *\n",
    "import string\n",
    "from lxml import html\n",
    "import requests\n",
    "import numpy as np\n",
    "import pandas as pd\n",
    "import nltk\n",
    "from bs4 import BeautifulSoup\n",
    "import re\n",
    "import os\n",
    "import codecs\n",
    "from sklearn import feature_extraction\n",
    "import mpld3\n",
    "from nltk.corpus import stopwords \n",
    "from nltk.tokenize import word_tokenize\n",
    "import string \n",
    "from nltk.stem import WordNetLemmatizer\n",
    "from nltk.tokenize.moses import MosesDetokenizer\n",
    "from nltk.sentiment.vader import SentimentIntensityAnalyzer\n",
    "from vaderSentiment.vaderSentiment import SentimentIntensityAnalyzer"
   ]
  },
  {
   "cell_type": "code",
   "execution_count": 6,
   "metadata": {
    "collapsed": true
   },
   "outputs": [],
   "source": [
    "with open('HP2 Chamber of Secrets.txt', 'r', encoding='utf8') as myfile:\n",
    "    \n",
    "    data=myfile.read().replace('\\n', '')\n",
    "\n",
    "from nltk.tokenize import sent_tokenize\n",
    "sentences = sent_tokenize(data)"
   ]
  },
  {
   "cell_type": "code",
   "execution_count": 17,
   "metadata": {
    "collapsed": true
   },
   "outputs": [],
   "source": [
    "from nltk.sentiment.vader import SentimentIntensityAnalyzer as SIA\n",
    "\n",
    "sia = SIA()\n",
    "scores2 = []\n",
    "\n",
    "for sentence in sentences:\n",
    "    pol_score = sia.polarity_scores(sentence)\n",
    "    pol_score['sentences'] = sentence\n",
    "    scores2.append(pol_score)"
   ]
  },
  {
   "cell_type": "code",
   "execution_count": 18,
   "metadata": {},
   "outputs": [
    {
     "data": {
      "text/html": [
       "<div>\n",
       "<style>\n",
       "    .dataframe thead tr:only-child th {\n",
       "        text-align: right;\n",
       "    }\n",
       "\n",
       "    .dataframe thead th {\n",
       "        text-align: left;\n",
       "    }\n",
       "\n",
       "    .dataframe tbody tr th {\n",
       "        vertical-align: top;\n",
       "    }\n",
       "</style>\n",
       "<table border=\"1\" class=\"dataframe\">\n",
       "  <thead>\n",
       "    <tr style=\"text-align: right;\">\n",
       "      <th></th>\n",
       "      <th>compound</th>\n",
       "      <th>neg</th>\n",
       "      <th>neu</th>\n",
       "      <th>pos</th>\n",
       "      <th>sentences</th>\n",
       "      <th>label</th>\n",
       "    </tr>\n",
       "  </thead>\n",
       "  <tbody>\n",
       "    <tr>\n",
       "      <th>0</th>\n",
       "      <td>0.0000</td>\n",
       "      <td>0.000</td>\n",
       "      <td>1.000</td>\n",
       "      <td>0.000</td>\n",
       "      <td>﻿1HARRY POTTERAND THE CHAMBER OF SECRETSbyJ.</td>\n",
       "      <td>0</td>\n",
       "    </tr>\n",
       "    <tr>\n",
       "      <th>1</th>\n",
       "      <td>-0.8788</td>\n",
       "      <td>0.223</td>\n",
       "      <td>0.749</td>\n",
       "      <td>0.028</td>\n",
       "      <td>K. Rowling(this is BOOK 2 in the Harry Potter ...</td>\n",
       "      <td>-1</td>\n",
       "    </tr>\n",
       "    <tr>\n",
       "      <th>2</th>\n",
       "      <td>0.0000</td>\n",
       "      <td>0.000</td>\n",
       "      <td>1.000</td>\n",
       "      <td>0.000</td>\n",
       "      <td>Mr. Vernon Dursley had been woken inthe early ...</td>\n",
       "      <td>0</td>\n",
       "    </tr>\n",
       "    <tr>\n",
       "      <th>3</th>\n",
       "      <td>0.0000</td>\n",
       "      <td>0.000</td>\n",
       "      <td>1.000</td>\n",
       "      <td>0.000</td>\n",
       "      <td>\"Third time this week!\"</td>\n",
       "      <td>0</td>\n",
       "    </tr>\n",
       "    <tr>\n",
       "      <th>4</th>\n",
       "      <td>0.0000</td>\n",
       "      <td>0.000</td>\n",
       "      <td>1.000</td>\n",
       "      <td>0.000</td>\n",
       "      <td>he roared across the table.</td>\n",
       "      <td>0</td>\n",
       "    </tr>\n",
       "  </tbody>\n",
       "</table>\n",
       "</div>"
      ],
      "text/plain": [
       "   compound    neg    neu    pos  \\\n",
       "0    0.0000  0.000  1.000  0.000   \n",
       "1   -0.8788  0.223  0.749  0.028   \n",
       "2    0.0000  0.000  1.000  0.000   \n",
       "3    0.0000  0.000  1.000  0.000   \n",
       "4    0.0000  0.000  1.000  0.000   \n",
       "\n",
       "                                           sentences  label  \n",
       "0       ﻿1HARRY POTTERAND THE CHAMBER OF SECRETSbyJ.      0  \n",
       "1  K. Rowling(this is BOOK 2 in the Harry Potter ...     -1  \n",
       "2  Mr. Vernon Dursley had been woken inthe early ...      0  \n",
       "3                            \"Third time this week!\"      0  \n",
       "4                        he roared across the table.      0  "
      ]
     },
     "execution_count": 18,
     "metadata": {},
     "output_type": "execute_result"
    }
   ],
   "source": [
    "df2 = pd.DataFrame.from_records(scores2)\n",
    "df2['label'] = 0\n",
    "df2.loc[df2['compound'] > 0.2, 'label'] = 1\n",
    "df2.loc[df2['compound'] < -0.2, 'label'] = -1\n",
    "df2.head()"
   ]
  },
  {
   "cell_type": "code",
   "execution_count": 19,
   "metadata": {},
   "outputs": [
    {
     "name": "stdout",
     "output_type": "stream",
     "text": [
      "{'positive': 1, 'neutral': 5, 'negative': 0}\n"
     ]
    }
   ],
   "source": [
    "summary = {\"positive\":0,\"neutral\":0,\"negative\":0}\n",
    "for x in df2: \n",
    "    ss = sia.polarity_scores(x)\n",
    "    if ss[\"compound\"] == 0.0: \n",
    "        summary[\"neutral\"] +=1\n",
    "    elif ss[\"compound\"] > 0.0:\n",
    "        summary[\"positive\"] +=1\n",
    "    else:\n",
    "        summary[\"negative\"] +=1\n",
    "print(summary)"
   ]
  },
  {
   "cell_type": "code",
   "execution_count": 21,
   "metadata": {
    "collapsed": true
   },
   "outputs": [],
   "source": [
    "df2 = df2[['sentences', 'compound', 'neg', 'neu', 'pos', 'label']]\n",
    "df2.to_csv('HP2_TEST_SENT.csv', encoding='utf-8', index=False)"
   ]
  },
  {
   "cell_type": "code",
   "execution_count": 28,
   "metadata": {
    "collapsed": true
   },
   "outputs": [],
   "source": [
    "with open('HP3 Prisoner of Azkaban.txt', 'r', encoding='utf8') as myfile:\n",
    "    \n",
    "    data=myfile.read().replace('\\n', '')\n",
    "\n",
    "from nltk.tokenize import sent_tokenize\n",
    "sentences = sent_tokenize(data)\n",
    "\n",
    "from nltk.sentiment.vader import SentimentIntensityAnalyzer as SIA\n",
    "\n",
    "sia = SIA()\n",
    "scores3 = []\n",
    "\n",
    "for sentence in sentences:\n",
    "    pol_score = sia.polarity_scores(sentence)\n",
    "    pol_score['sentences'] = sentence\n",
    "    scores3.append(pol_score)\n",
    "\n",
    "df3 = pd.DataFrame.from_records(scores3)\n",
    "df3['label'] = 0\n",
    "df3.loc[df3['compound'] > 0.2, 'label'] = 1\n",
    "df3.loc[df3['compound'] < -0.2, 'label'] = -1\n",
    "\n",
    "df3 = df3[['sentences', 'compound', 'neg', 'neu', 'pos', 'label']]\n",
    "df3.to_csv('HP33_TEST_SENT.csv', encoding='utf-8', index=False)"
   ]
  },
  {
   "cell_type": "code",
   "execution_count": 29,
   "metadata": {
    "collapsed": true
   },
   "outputs": [],
   "source": [
    "with open('HP4 Goblet of Fire.txt', 'r', encoding='utf8') as myfile:\n",
    "    \n",
    "    data=myfile.read().replace('\\n', '')\n",
    "\n",
    "from nltk.tokenize import sent_tokenize\n",
    "sentences = sent_tokenize(data)\n",
    "\n",
    "from nltk.sentiment.vader import SentimentIntensityAnalyzer as SIA\n",
    "\n",
    "sia = SIA()\n",
    "scores3 = []\n",
    "\n",
    "for sentence in sentences:\n",
    "    pol_score = sia.polarity_scores(sentence)\n",
    "    pol_score['sentences'] = sentence\n",
    "    scores3.append(pol_score)\n",
    "\n",
    "df3 = pd.DataFrame.from_records(scores3)\n",
    "df3['label'] = 0\n",
    "df3.loc[df3['compound'] > 0.2, 'label'] = 1\n",
    "df3.loc[df3['compound'] < -0.2, 'label'] = -1\n",
    "\n",
    "df3 = df3[['sentences', 'compound', 'neg', 'neu', 'pos', 'label']]\n",
    "df3.to_csv('HP4_TEST_SENT.csv', encoding='utf-8', index=False)"
   ]
  },
  {
   "cell_type": "code",
   "execution_count": 30,
   "metadata": {
    "collapsed": true
   },
   "outputs": [],
   "source": [
    "with open('HP5 Order of Phoenix.txt', 'r', encoding='utf8') as myfile:\n",
    "    \n",
    "    data=myfile.read().replace('\\n', '')\n",
    "\n",
    "from nltk.tokenize import sent_tokenize\n",
    "sentences = sent_tokenize(data)\n",
    "\n",
    "from nltk.sentiment.vader import SentimentIntensityAnalyzer as SIA\n",
    "\n",
    "sia = SIA()\n",
    "scores3 = []\n",
    "\n",
    "for sentence in sentences:\n",
    "    pol_score = sia.polarity_scores(sentence)\n",
    "    pol_score['sentences'] = sentence\n",
    "    scores3.append(pol_score)\n",
    "\n",
    "df3 = pd.DataFrame.from_records(scores3)\n",
    "df3['label'] = 0\n",
    "df3.loc[df3['compound'] > 0.2, 'label'] = 1\n",
    "df3.loc[df3['compound'] < -0.2, 'label'] = -1\n",
    "\n",
    "df3 = df3[['sentences', 'compound', 'neg', 'neu', 'pos', 'label']]\n",
    "df3.to_csv('HP5_TEST_SENT.csv', encoding='utf-8', index=False)"
   ]
  },
  {
   "cell_type": "code",
   "execution_count": 31,
   "metadata": {
    "collapsed": true
   },
   "outputs": [],
   "source": [
    "with open('HP6 Half Blood Prince.txt', 'r', encoding='utf8') as myfile:\n",
    "    \n",
    "    data=myfile.read().replace('\\n', '')\n",
    "\n",
    "from nltk.tokenize import sent_tokenize\n",
    "sentences = sent_tokenize(data)\n",
    "\n",
    "from nltk.sentiment.vader import SentimentIntensityAnalyzer as SIA\n",
    "\n",
    "sia = SIA()\n",
    "scores3 = []\n",
    "\n",
    "for sentence in sentences:\n",
    "    pol_score = sia.polarity_scores(sentence)\n",
    "    pol_score['sentences'] = sentence\n",
    "    scores3.append(pol_score)\n",
    "\n",
    "df3 = pd.DataFrame.from_records(scores3)\n",
    "df3['label'] = 0\n",
    "df3.loc[df3['compound'] > 0.2, 'label'] = 1\n",
    "df3.loc[df3['compound'] < -0.2, 'label'] = -1\n",
    "\n",
    "df3 = df3[['sentences', 'compound', 'neg', 'neu', 'pos', 'label']]\n",
    "df3.to_csv('HP6_TEST_SENT.csv', encoding='utf-8', index=False)"
   ]
  },
  {
   "cell_type": "code",
   "execution_count": 27,
   "metadata": {
    "collapsed": true
   },
   "outputs": [],
   "source": [
    "with open('HP7 Deathly Hallows.txt', 'r', encoding='utf8') as myfile:\n",
    "    \n",
    "    data=myfile.read().replace('\\n', '')\n",
    "\n",
    "from nltk.tokenize import sent_tokenize\n",
    "sentences = sent_tokenize(data)\n",
    "\n",
    "from nltk.sentiment.vader import SentimentIntensityAnalyzer as SIA\n",
    "\n",
    "sia = SIA()\n",
    "scores3 = []\n",
    "\n",
    "for sentence in sentences:\n",
    "    pol_score = sia.polarity_scores(sentence)\n",
    "    pol_score['sentences'] = sentence\n",
    "    scores3.append(pol_score)\n",
    "\n",
    "df3 = pd.DataFrame.from_records(scores3)\n",
    "df3['label'] = 0\n",
    "df3.loc[df3['compound'] > 0.2, 'label'] = 1\n",
    "df3.loc[df3['compound'] < -0.2, 'label'] = -1\n",
    "\n",
    "df3 = df3[['sentences', 'compound', 'neg', 'neu', 'pos', 'label']]\n",
    "df3.to_csv('HP3_TEST_SENT.csv', encoding='utf-8', index=False)"
   ]
  },
  {
   "cell_type": "code",
   "execution_count": null,
   "metadata": {
    "collapsed": true
   },
   "outputs": [],
   "source": [
    "with open('HP7 Deathly Hallows.txt', 'r', encoding='utf8') as myfile:\n",
    "    \n",
    "    data=myfile.read().replace('\\n', '')\n",
    "\n",
    "from nltk.tokenize import sent_tokenize\n",
    "sentences = sent_tokenize(data)\n",
    "    \n",
    "from nltk.sentiment.vader import SentimentIntensityAnalyzer as SIA\n",
    "\n",
    "sia = SIA()\n",
    "scores7 = []\n",
    "\n",
    "for sentence in sentences:\n",
    "    pol_score = sia.polarity_scores(sentence)\n",
    "    pol_score['sentences'] = sentence\n",
    "    scores7.append(pol_score)\n",
    "    \n",
    "df7= pd.DataFrame.from_records(scores7)\n",
    "df7['label'] = 0\n",
    "df7.loc[df7['compound'] > 0.2, 'label'] = 1\n",
    "df7.loc[df7['compound'] < -0.2, 'label'] = -1\n",
    "df7.head()\n",
    "\n",
    "summary = {\"positive\":0,\"neutral\":0,\"negative\":0}\n",
    "for x in df7: \n",
    "    ss = sia.polarity_scores(x)\n",
    "    if ss[\"compound\"] == 0.0: \n",
    "        summary[\"neutral\"] +=1\n",
    "    elif ss[\"compound\"] > 0.0:\n",
    "        summary[\"positive\"] +=1\n",
    "    else:\n",
    "        summary[\"negative\"] +=1\n",
    "print(summary)\n",
    "\n",
    "df8 = df8[['words', 'compound', 'neg', 'neu', 'pos', 'label']]\n",
    "df8.to_csv('HP7_vader_test11.csv', encoding='utf-8', index=False)"
   ]
  }
 ],
 "metadata": {
  "kernelspec": {
   "display_name": "Python 3",
   "language": "python",
   "name": "python3"
  },
  "language_info": {
   "codemirror_mode": {
    "name": "ipython",
    "version": 3
   },
   "file_extension": ".py",
   "mimetype": "text/x-python",
   "name": "python",
   "nbconvert_exporter": "python",
   "pygments_lexer": "ipython3",
   "version": "3.6.3"
  }
 },
 "nbformat": 4,
 "nbformat_minor": 2
}
